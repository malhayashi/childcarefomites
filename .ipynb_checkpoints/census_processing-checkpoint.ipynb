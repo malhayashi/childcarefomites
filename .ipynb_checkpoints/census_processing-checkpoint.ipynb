{
 "cells": [
  {
   "cell_type": "code",
   "execution_count": null,
   "metadata": {
    "collapsed": true
   },
   "outputs": [],
   "source": [
    "import os\n",
    "import pandas as pd"
   ]
  },
  {
   "cell_type": "code",
   "execution_count": null,
   "metadata": {
    "collapsed": true
   },
   "outputs": [],
   "source": [
    "### Compile ACS PUMS US household files\n",
    "husa = pd.read_csv(os.path.join(os.path.expanduser('~'),'Downloads','ss16husa.csv'))\n",
    "husb = pd.read_csv(os.path.join(os.path.expanduser('~'),'Downloads','ss16husa.csv'))\n",
    "husc = pd.read_csv(os.path.join(os.path.expanduser('~'),'Downloads','ss16husa.csv'))\n",
    "husd = pd.read_csv(os.path.join(os.path.expanduser('~'),'Downloads','ss16husa.csv'))\n",
    "\n",
    "hus = pd.concat([husa,husb,husc,husd])"
   ]
  },
  {
   "cell_type": "code",
   "execution_count": null,
   "metadata": {
    "collapsed": true
   },
   "outputs": [],
   "source": [
    "### Extract income variables, write to file\n",
    "husIncome = hus[['ADJINC','WGTP','HINCP','NP','HHT']]\n",
    "husIncome.to_csv(os.path.join(os.path.expanduser('~'),'Dropbox','Projects','Fomites','Data','us_hh_income_2016.csv'),index=False)"
   ]
  },
  {
   "cell_type": "code",
   "execution_count": null,
   "metadata": {
    "collapsed": true
   },
   "outputs": [],
   "source": [
    "### Read income data, calculate summary measures"
   ]
  }
 ],
 "metadata": {
  "kernelspec": {
   "display_name": "Python [Root]",
   "language": "python",
   "name": "Python [Root]"
  },
  "language_info": {
   "codemirror_mode": {
    "name": "ipython",
    "version": 2
   },
   "file_extension": ".py",
   "mimetype": "text/x-python",
   "name": "python",
   "nbconvert_exporter": "python",
   "pygments_lexer": "ipython2",
   "version": "2.7.12"
  }
 },
 "nbformat": 4,
 "nbformat_minor": 0
}
